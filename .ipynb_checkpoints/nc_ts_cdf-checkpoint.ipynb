{
 "cells": [
  {
   "cell_type": "code",
   "execution_count": 1,
   "metadata": {},
   "outputs": [],
   "source": [
    "import numpy as np\n",
    "\n",
    "def rgamma(n):\n",
    "    x = n + 1\n",
    "    fval = np.sqrt(x-.25) * (1 + 1 / (64 * x * x) + 1 / (128 * x * x * x))\n",
    "    return 1/fval"
   ]
  },
  {
   "cell_type": "markdown",
   "metadata": {},
   "source": [
    "Calculate the cdf of a non-central t statistic\n",
    "t is the cdf variable; n is # degrees of freedom; δ is the noncentrality parameter"
   ]
  },
  {
   "cell_type": "code",
   "execution_count": 2,
   "metadata": {},
   "outputs": [],
   "source": [
    "import statistics as stats\n",
    "import scipy\n",
    "\n",
    "def nct_cdf(t, n, delta, tol):\n",
    "    r = lambda t_val, n_val: t_val*t_val/(t_val*t_val+n_val)\n",
    "    if (t >= 0):\n",
    "        out = stats.norm.cdf(-delta)\n",
    "        for m in range(0, 1000):\n",
    "            if (m <= 50):\n",
    "                sumincr = 0.5 * stats.poisson.pmf(m, delta * delta / 2) * (stats.beta.cdf(r(t, n), m + 0.5, n / 2) + ((delta * scipy.special.gamma(m + 1)) / (np.sqrt(2) * scipy.special.gamma(m + 1.5))) * stats.beta.cdf(r(t, n), m + 1, n / 2))\n",
    "            else:\n",
    "                sumincr = 0.5 * stats.poisson.pmf(m, delta * delta / 2) * (stats.beta.cdf(r(t, n), m + 0.5, n / 2) + (delta / np.sqrt(2) * rgamma(m)) * stats.beta.cdf(r(t, n), m + 1, n / 2))\n",
    "            out = out + sumincr\n",
    "\n",
    "            if (sumincr / out < tol):\n",
    "                break\n",
    "    else:\n",
    "        out = stats.norm.cdf(delta)\n",
    "        for m in range(0, 1000):\n",
    "            if (m <= 50):\n",
    "                sumincr = 0.5 * stats.poisson.pmf(m, delta * delta / 2) * (stats.beta.cdf(r(t, n), m + 0.5, n / 2) + ((delta * scipy.special.gamma(m + 1)) / (np.sqrt(2) * scipy.special.gamma(m + 1.5))) * stats.beta.cdf(r(t, n), m + 1, n / 2))\n",
    "            else:\n",
    "                sumincr = 0.5 * stats.poisson.pmf(m, delta * delta / 2) * (stats.beta.cdf(r(t, n), m + 0.5, n / 2) + (delta / np.sqrt(2) * rgamma(m)) * stats.beta.cdf(r(t, n), m + 1, n / 2))\n",
    "\n",
    "            out = out + sumincr\n",
    "            if (abs(sumincr)/out < tol):\n",
    "                out = 1 - out\n",
    "                break\n",
    "    return out"
   ]
  }
 ],
 "metadata": {
  "kernelspec": {
   "display_name": "Python 3 (ipykernel)",
   "language": "python",
   "name": "python3"
  },
  "language_info": {
   "codemirror_mode": {
    "name": "ipython",
    "version": 3
   },
   "file_extension": ".py",
   "mimetype": "text/x-python",
   "name": "python",
   "nbconvert_exporter": "python",
   "pygments_lexer": "ipython3",
   "version": "3.11.4"
  }
 },
 "nbformat": 4,
 "nbformat_minor": 4
}
