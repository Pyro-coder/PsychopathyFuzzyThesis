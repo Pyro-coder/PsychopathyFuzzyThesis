{
 "cells": [
  {
   "cell_type": "code",
   "execution_count": 1,
   "metadata": {},
   "outputs": [],
   "source": [
    "import numpy as np\n",
    "import scipy\n",
    "import math\n",
    "from scipy.stats import nct\n",
    "import scipy.optimize as opt\n",
    "import scipy.stats as stats"
   ]
  },
  {
   "cell_type": "markdown",
   "metadata": {},
   "source": [
    "# rgamma\n",
    "Calculate the approxomation of the ratio of gamma(n+1)/gamma(n+3/2) for large m"
   ]
  },
  {
   "cell_type": "code",
   "execution_count": 8,
   "metadata": {},
   "outputs": [],
   "source": [
    "import numpy as np\n",
    "\n",
    "def rgamma(n):\n",
    "    x = n + 1\n",
    "    fval = np.sqrt(x-.25) * (1 + 1 / (64 * x * x) + 1 / (128 * x * x * x))\n",
    "    return 1/fval"
   ]
  },
  {
   "cell_type": "markdown",
   "metadata": {},
   "source": [
    "# ncd_cdf\n",
    "Calculate the cdf of a non-central t statistic\n",
    "t is the cdf variable; n is # degrees of freedom; δ is the noncentrality parameter"
   ]
  },
  {
   "cell_type": "code",
   "execution_count": 9,
   "metadata": {},
   "outputs": [],
   "source": [
    "import statistics as stats\n",
    "import scipy\n",
    "\n",
    "def nct_cdf(t, n, delta, tol):\n",
    "    r = lambda t_val, n_val: t_val*t_val/(t_val*t_val+n_val)\n",
    "    if (t >= 0):\n",
    "        out = stats.norm.cdf(-delta)\n",
    "        for m in range(0, 1000):\n",
    "            if (m <= 50):\n",
    "                sumincr = 0.5 * stats.poisson.pmf(m, delta * delta / 2) * (stats.beta.cdf(r(t, n), m + 0.5, n / 2) + ((delta * scipy.special.gamma(m + 1)) / (np.sqrt(2) * scipy.special.gamma(m + 1.5))) * stats.beta.cdf(r(t, n), m + 1, n / 2))\n",
    "            else:\n",
    "                sumincr = 0.5 * stats.poisson.pmf(m, delta * delta / 2) * (stats.beta.cdf(r(t, n), m + 0.5, n / 2) + (delta / np.sqrt(2) * rgamma(m)) * stats.beta.cdf(r(t, n), m + 1, n / 2))\n",
    "            out = out + sumincr\n",
    "\n",
    "            if (sumincr / out < tol):\n",
    "                break\n",
    "    else:\n",
    "        out = stats.norm.cdf(delta)\n",
    "        for m in range(0, 1000):\n",
    "            if (m <= 50):\n",
    "                sumincr = 0.5 * stats.poisson.pmf(m, delta * delta / 2) * (stats.beta.cdf(r(t, n), m + 0.5, n / 2) + ((delta * scipy.special.gamma(m + 1)) / (np.sqrt(2) * scipy.special.gamma(m + 1.5))) * stats.beta.cdf(r(t, n), m + 1, n / 2))\n",
    "            else:\n",
    "                sumincr = 0.5 * stats.poisson.pmf(m, delta * delta / 2) * (stats.beta.cdf(r(t, n), m + 0.5, n / 2) + (delta / np.sqrt(2) * rgamma(m)) * stats.beta.cdf(r(t, n), m + 1, n / 2))\n",
    "\n",
    "            out = out + sumincr\n",
    "            if (abs(sumincr)/out < tol):\n",
    "                out = 1 - out\n",
    "                break\n",
    "    return out"
   ]
  },
  {
   "cell_type": "markdown",
   "metadata": {},
   "source": [
    "# inv_nct_cdf\n",
    "Inverse of non-central t-statistic cdf; finds the threshold yielding a cdf value of P\n",
    "\n",
    "n is the # of degrees of freedom"
   ]
  },
  {
   "cell_type": "code",
   "execution_count": 10,
   "metadata": {},
   "outputs": [],
   "source": [
    "def inv_nct_cdf(P, n, delta, tol):\n",
    "\n",
    "    # set initial t guess to lowercase delta (delta) and step up and down to find an interval where f(t) has opposite signs for the endpoints\n",
    "    f = lambda t: nct_cdf(t, n, delta, tol) - P\n",
    "\n",
    "    x0 = delta\n",
    "\n",
    "    # Determine the direction to move in\n",
    "    if f(x0) <= 0:\n",
    "        x1 = 2 * delta\n",
    "        while (f(x0) <= 0 and f(x1) <= 0):\n",
    "            x0 = x1\n",
    "            x1 = x1 + delta\n",
    "    else:\n",
    "        x0 = 0\n",
    "        x1 = delta\n",
    "        while (f(x0) > 0 and f(x1) >= 0):\n",
    "            x1 = x0\n",
    "            x0 = x0 - delta\n",
    "    \n",
    "\n",
    "    return opt.brentq(f, x0, x1)"
   ]
  },
  {
   "cell_type": "markdown",
   "metadata": {},
   "source": [
    "# ktol\n",
    "Find one-sided tolerance interval k (multiple of sample std dev away from sample mean), given γ, α and n"
   ]
  },
  {
   "cell_type": "code",
   "execution_count": 11,
   "metadata": {},
   "outputs": [],
   "source": [
    "import math\n",
    "\n",
    "def ktol(upsilon, a, n, tol):\n",
    "    zp = stats.norm.ppf(1-upsilon, 0, 1)\n",
    "    delta = math.sqrt(n) * zp\n",
    "    result = inv_nct_cdf(1 - a, n - 1, delta, tol) / math.sqrt(n)\n",
    "    return result"
   ]
  }
 ],
 "metadata": {
  "kernelspec": {
   "display_name": "Python 3 (ipykernel)",
   "language": "python",
   "name": "python3"
  },
  "language_info": {
   "codemirror_mode": {
    "name": "ipython",
    "version": 3
   },
   "file_extension": ".py",
   "mimetype": "text/x-python",
   "name": "python",
   "nbconvert_exporter": "python",
   "pygments_lexer": "ipython3",
   "version": "3.11.4"
  }
 },
 "nbformat": 4,
 "nbformat_minor": 4
}
